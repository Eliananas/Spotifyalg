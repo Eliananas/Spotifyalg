{
 "cells": [
  {
   "cell_type": "code",
   "execution_count": null,
   "metadata": {},
   "outputs": [],
   "source": [
    "import spotipy\n",
    "from spotipy.oauth2 import SpotifyOAuth\n",
    "import cred\n",
    "import functions as func\n",
    "import pprint\n",
    "import requests\n",
    "import time\n",
    "import math\n",
    "\n",
    "pp = pprint.PrettyPrinter()\n",
    "\n",
    "scope = \"playlist-read-private playlist-modify-public user-read-private user-top-read user-library-read\"\n",
    "auth_manager = SpotifyOAuth(client_id=cred.client_id, client_secret=cred.client_secret, redirect_uri='http://127.0.0.1:8080', scope=scope)\n",
    "sp = spotipy.Spotify(auth_manager=auth_manager)\n",
    "\n",
    "user_id = sp.current_user()['id']\n",
    "user_country = sp.current_user()['country']"
   ]
  },
  {
   "cell_type": "code",
   "execution_count": null,
   "metadata": {},
   "outputs": [],
   "source": [
    "try:\n",
    "    playlist_ids, raw_playlists = func.get_user_playlist_urls()\n",
    "except:\n",
    "    playlist_ids, raw_playlists = func.get_user_playlist_urls()\n",
    "test_list = playlist_ids[2:]\n",
    "\n",
    "playlist_song_ids = func.song_ids_from_playlists(user_id, test_list)\n",
    "\n",
    "saved_song_ids = func.get_saved_tracks()\n",
    "song_ids = playlist_song_ids + saved_song_ids\n",
    "\n",
    "rec_ids = func.recc_id(song_ids, user_country)\n",
    "#print(len(rec_ids))\n",
    "\n",
    "\n",
    "for song in rec_ids:\n",
    "    if song in song_ids:\n",
    "        rec_ids.remove(song)\n",
    "    else:\n",
    "        continue\n",
    "\n",
    "func.create_playlist(rec_ids)\n"
   ]
  },
  {
   "cell_type": "code",
   "execution_count": null,
   "metadata": {},
   "outputs": [],
   "source": [
    "top_artists = sp.current_user_top_artists(time_range='medium_term', limit=30)\n",
    "topartists = []\n",
    "for i, item in enumerate(top_artists['items']):\n",
    "    topartists.append(item['name'])\n",
    "    print(i + 1, item['name'])\n",
    "   \n",
    "print('\\n')\n",
    "top_tracks = sp.current_user_top_tracks(time_range='medium_term', limit=30)\n",
    "toptracks = []\n",
    "for i, item in enumerate(top_tracks['items']):\n",
    "    toptracks.append(item['name'])\n",
    "    print(i + 1, item['name'], '//', item['artists'][0]['name'])\n",
    "    \n",
    "artist_popularities = []\n",
    "for i in range(len(top_artists['items'])):\n",
    "    artist_popularities.append(top_artists['items'][i]['popularity'])\n",
    "    \n",
    "track_popularities = []\n",
    "for i in range(len(top_tracks['items'])):\n",
    "    track_popularities.append(top_tracks['items'][i]['popularity'])"
   ]
  }
 ],
 "metadata": {
  "interpreter": {
   "hash": "aee8b7b246df8f9039afb4144a1f6fd8d2ca17a180786b69acc140d282b71a49"
  },
  "kernelspec": {
   "display_name": "Python 3.10.0 64-bit",
   "language": "python",
   "name": "python3"
  },
  "language_info": {
   "codemirror_mode": {
    "name": "ipython",
    "version": 3
   },
   "file_extension": ".py",
   "mimetype": "text/x-python",
   "name": "python",
   "nbconvert_exporter": "python",
   "pygments_lexer": "ipython3",
   "version": "3.10.0"
  },
  "orig_nbformat": 4
 },
 "nbformat": 4,
 "nbformat_minor": 2
}
