{
 "cells": [
  {
   "cell_type": "code",
   "execution_count": 1,
   "metadata": {},
   "outputs": [],
   "source": [
    "import spotipy\n",
    "from spotipy.oauth2 import SpotifyOAuth\n",
    "import cred\n",
    "import time\n",
    "import pandas as pd\n",
    "import random\n",
    "import statistics as stat\n",
    "\n",
    "scope = \"playlist-read-private playlist-modify-public user-read-private user-top-read user-library-read\"\n",
    "auth_manager = SpotifyOAuth(client_id=cred.client_id, client_secret=cred.client_secret, redirect_uri='http://127.0.0.1:8080', scope=scope)\n",
    "sp = spotipy.Spotify(auth_manager=auth_manager)\n",
    "\n",
    "user_id = sp.current_user()['id']\n",
    "user_country = sp.current_user()['country']\n"
   ]
  },
  {
   "cell_type": "code",
   "execution_count": 2,
   "metadata": {},
   "outputs": [],
   "source": [
    "top_artists_sp = sp.current_user_top_artists(time_range='medium_term', limit=30)"
   ]
  },
  {
   "cell_type": "code",
   "execution_count": 11,
   "metadata": {},
   "outputs": [
    {
     "data": {
      "text/plain": [
       "['spotify:track:1BfzeCKzo8xSvJcYLmnP8f',\n",
       " 'spotify:track:58rFzMvW9kxNwMtGTgBQoP',\n",
       " 'spotify:track:7oVEtyuv9NBmnytsCIsY5I',\n",
       " 'spotify:track:0wzI3aCA6kz8y9YOaeXaPN',\n",
       " 'spotify:track:2374M0fQpWi3dLnB54qaLX',\n",
       " 'spotify:track:56Tl3UgyZTqfZtvFNS31wm',\n",
       " 'spotify:track:2nkoWsTZa8LKPNGdjI5uxj',\n",
       " 'spotify:track:0pqnGHJpmpxLKifKRmU6WP',\n",
       " 'spotify:track:0COqiPhxzoWICwFCS4eZcp',\n",
       " 'spotify:track:04vwfsTxk11Q7cHMdGuM0c',\n",
       " 'spotify:track:1r1fPuhj9H4VdXr7OK6FL5',\n",
       " 'spotify:track:50oS45iNMFp7pKIQRAWIUP',\n",
       " 'spotify:track:6GG73Jik4jUlQCkKg9JuGO',\n",
       " 'spotify:track:72hcFp4tYkd3dbNA9dZ3Pv',\n",
       " 'spotify:track:1CQXNBt6zv15L8zDITcxRB',\n",
       " 'spotify:track:1Pvmzboyxwp1rOVYqwKIgU',\n",
       " 'spotify:track:3UygY7qW2cvG9Llkay6i1i',\n",
       " 'spotify:track:2RTkebdbPFyg4AMIzJZql1',\n",
       " 'spotify:track:0rmGAIH9LNJewFw7nKzZnc',\n",
       " 'spotify:track:3tFxdOTHaFrI29QpjBdo2g',\n",
       " 'spotify:track:6Wx88Mv6b9ofjKMKkdwOJd',\n",
       " 'spotify:track:7LQmMbINZ4odizvNQuD2pc',\n",
       " 'spotify:track:4qjscZh4jfhkpcQG4ZQfi2',\n",
       " 'spotify:track:0C3rMO9XEeVU80C6X1Kjno',\n",
       " 'spotify:track:2K7j4xrQENCi5r3Hii4cVe',\n",
       " 'spotify:track:2Znop8Di1Ui0KFH6JIPBVV',\n",
       " 'spotify:track:2JuvYSGPsB3iEA9jdRT8Ey',\n",
       " 'spotify:track:0gbLfFlEyVHiKzlZIb0gce',\n",
       " 'spotify:track:1zB4vmk8tFRmM9UULNzbLB',\n",
       " 'spotify:track:1X1DWw2pcNZ8zSub3uhlNz',\n",
       " 'spotify:track:6Qn5zhYkTa37e91HC1D7lb',\n",
       " 'spotify:track:1lgN0A2Vki2FTON5PYq42m',\n",
       " 'spotify:track:16MQZkAIAAtI4X5NuiEwuq',\n",
       " 'spotify:track:2RSHsoi04658QL5xgQVov3',\n",
       " 'spotify:track:27L8sESb3KR79asDUBu8nW',\n",
       " 'spotify:track:7KgqciSDH2WUekf19UqUfh',\n",
       " 'spotify:track:0RVeadY2MbHz4Pe4MreLNw',\n",
       " 'spotify:track:2l57cfmCnOkwNX1tky02n1',\n",
       " 'spotify:track:2Xaw1RrXP3mdooKWysuRJ8',\n",
       " 'spotify:track:6KuHjfXHkfnIjdmcIvt9r0',\n",
       " 'spotify:track:6ZOBP3NvffbU4SZcrnt1k6',\n",
       " 'spotify:track:2pp1JDxpXuqRINtpxl0e4h',\n",
       " 'spotify:track:2FY7b99s15jUprqC0M5NCT',\n",
       " 'spotify:track:497GNacwaZnIDyAhXzNlnN',\n",
       " 'spotify:track:1Ntj0hZfncXCQ5hij7igIE',\n",
       " 'spotify:track:1PLMK1ui86iHHG3FM1N7ue',\n",
       " 'spotify:track:25sgk305KZfyuqVBQIahim',\n",
       " 'spotify:track:4EcFiXdtuKbUwPB5XgTk4Z',\n",
       " 'spotify:track:1ianoyRbOK3RXrQIiT2aTk',\n",
       " 'spotify:track:2Y1mV61JGX5BvQb4erYmqt',\n",
       " 'spotify:track:7tnXcQslzeo6xSqU17dfCf',\n",
       " 'spotify:track:50FrevYj6dwHWvdFIuijCe',\n",
       " 'spotify:track:4VVyEt85JS8F6NT9frMFjX',\n",
       " 'spotify:track:3850dYVgOFIXJh5U4BFEWH',\n",
       " 'spotify:track:3iw6V4LH7yPj1ESORX9RIN',\n",
       " 'spotify:track:5jnZUl6PwWB0Maze4kDJfC',\n",
       " 'spotify:track:2KH16WveTQWT6KOG9Rg6e2',\n",
       " 'spotify:track:6QEJXF3eUSkoDVWwVGXPGb',\n",
       " 'spotify:track:2bzitsPcImYC6DZWvvLCQi',\n",
       " 'spotify:track:1dekgAFF9uTCqLsklDaCWb',\n",
       " 'spotify:track:18lR4BzEs7e3qzc0KVkTpU',\n",
       " 'spotify:track:37ZJ0p5Jm13JPevGcx4SkF',\n",
       " 'spotify:track:3Q9JtAAt8j9FCbuB8bCPeC',\n",
       " 'spotify:track:5Emtz5QQ1oCvtJhXZd31bj',\n",
       " 'spotify:track:17VqlqPmnpytc9jnQPlxQh',\n",
       " 'spotify:track:3ZWfk4Bi9o4fp7iNAjpXV7',\n",
       " 'spotify:track:69Tx9JvyHEMRLJxjPyFsuy',\n",
       " 'spotify:track:2jfk3m8nq5IvB35s2xIs1O',\n",
       " 'spotify:track:06Zz2l7cVTCTgCNDe1bnEF',\n",
       " 'spotify:track:0X1sqQ652p1sceKM2nJlIJ',\n",
       " 'spotify:track:0MsrWnxQZxPAcov7c74sSo',\n",
       " 'spotify:track:4tXBsD5sEzxlJjWCOz6qzs',\n",
       " 'spotify:track:0v1XpBHnsbkCn7iJ9Ucr1l']"
      ]
     },
     "execution_count": 11,
     "metadata": {},
     "output_type": "execute_result"
    }
   ],
   "source": [
    "def get_user_top_tracks():\n",
    "\n",
    "  long_term_tracks = sp.current_user_top_tracks(time_range='long_term', limit=30)\n",
    "  medium_term_tracks = sp.current_user_top_tracks(time_range='medium_term', limit=30)\n",
    "  short_term_tracks = sp.current_user_top_tracks(time_range='short_term', limit=30)\n",
    "\n",
    "  top_track_ids = []\n",
    "  for ltrack in long_term_tracks['items']:\n",
    "    top_track_ids.append(ltrack['uri'])\n",
    "\n",
    "  for mtrack in medium_term_tracks['items']:\n",
    "    top_track_ids.append(mtrack['uri'])\n",
    "\n",
    "  for strack in short_term_tracks['items']:\n",
    "    top_track_ids.append(strack['uri'])\n",
    "\n",
    "  return list(set(top_track_ids))\n",
    "get_user_top_tracks()"
   ]
  },
  {
   "cell_type": "code",
   "execution_count": 6,
   "metadata": {},
   "outputs": [],
   "source": [
    "\n",
    "#def cool_fact():\n",
    "top_tracks_sp = sp.current_user_top_tracks(time_range='medium_term', limit=30)\n",
    "top_tracks = []\n",
    "\n",
    "for i, track in enumerate(top_tracks_sp['items']):\n",
    "  uri = top_tracks.append(track['uri'])\n",
    "\n",
    "#top_df = create_track_df(top_tracks)\n",
    "\n",
    "# ..."
   ]
  },
  {
   "cell_type": "code",
   "execution_count": null,
   "metadata": {},
   "outputs": [],
   "source": []
  },
  {
   "cell_type": "code",
   "execution_count": 21,
   "metadata": {},
   "outputs": [
    {
     "name": "stdout",
     "output_type": "stream",
     "text": [
      "Did you know? On average, your top 30 tracks have a tempo of 133.375 bpm.\n"
     ]
    }
   ],
   "source": [
    "# ...\n",
    "features = ['duration_m', 'track_popularity', 'danceability', 'energy',\n",
    "  'loudness', 'mode', 'speechiness', 'acousticness', 'instrumentalness',\n",
    "  'liveness', 'valence', 'tempo']\n",
    "feature_to_use = random.sample(features, k = 1)\n",
    "#feature_to_use = ['key']\n",
    "\n",
    "# add release date and key later?\n",
    "if feature_to_use[0] == 'duration_m':\n",
    "  duration = round(stat.mean(top_df['duration_m']), 3)\n",
    "  print(f'Did you know? On average, your top 30 tracks are {duration} minutes long!')\n",
    "\n",
    "elif feature_to_use[0] == 'track_popularity':\n",
    "  pop = round(stat.mean(top_df['track_popularity']), 3)\n",
    "  print(f'Did you know? On average, your top 30 tracks have popularity of {pop} (out of 100).')\n",
    "\n",
    "elif feature_to_use[0] == 'tempo':\n",
    "  tempo = round(stat.mean(top_df['tempo']), 3)\n",
    "  print(f'Did you know? On average, your top 30 tracks have a tempo of {tempo} bpm.')\n",
    "  # add if statements later on the degrees of speed\n",
    "\n",
    "elif feature_to_use[0] == 'loudness':\n",
    "  db = round(stat.mean(top_df['loudness']), 3)\n",
    "  print(f'Did you know? On average, your top 30 songs have a loudness of {db} decibels.')\n",
    "\n",
    "# elif feature_to_use[0] == 'key':\n",
    "#   top_key = max(top_df['key'], key = top_df['key'].count)\n",
    "#   if top_df['mode'] == 1:\n",
    "#     mode = 'major'\n",
    "#   else:\n",
    "#     mode = 'minor'\n",
    "#   print(f'Did you know? The most common key of your top 30 tracks is {top_key} {mode}.')\n",
    "\n",
    "elif feature_to_use[0] == 'mode':\n",
    "  if stat.mean(top_df['mode']) >= .5:\n",
    "    print(f'Did you know? The majority of your top 30 tracks are in a major key!')\n",
    "  else:\n",
    "    print(f'Did you know? The majority of your top 30 tracks are in a minor key!')\n",
    "\n",
    "else:\n",
    "  stats = top_df[feature_to_use[0]]\n",
    "  print(f'Did you know? On average, your top 30 songs have a {feature_to_use[0]} of {round(stat.mean(stats), 3)}.')"
   ]
  },
  {
   "cell_type": "code",
   "execution_count": null,
   "metadata": {},
   "outputs": [],
   "source": [
    "artist_genres = top_artists_sp['items'][0]['genres']\n",
    "artist_popularity = top_artists_sp['items'][0]['popularity']\n",
    "artist_name = top_artists_s=['items'][0]['name']"
   ]
  },
  {
   "cell_type": "code",
   "execution_count": null,
   "metadata": {},
   "outputs": [],
   "source": [
    "'''\n",
    "topartists = []\n",
    "for i, item in enumerate(top_artists['items']):\n",
    "    topartists.append(item['name'])\n",
    "    print(i + 1, item['name'])\n",
    "    \n",
    "print('\\n')\n",
    "toptracks = []\n",
    "for i, item in enumerate(top_tracks['items']):\n",
    "    toptracks.append(item['name'])\n",
    "    print(i + 1, item['name'], '//', item['artists'][0]['name'])\n",
    "    \n",
    "artist_popularities = []\n",
    "for i in range(len(top_artists['items'])):\n",
    "    artist_popularities.append(top_artists['items'][i]['popularity'])\n",
    "    \n",
    "track_popularities = []\n",
    "for i in range(len(top_tracks['items'])):\n",
    "    track_popularities.append(top_tracks['items'][i]['popularity'])\n",
    "'''"
   ]
  }
 ],
 "metadata": {
  "interpreter": {
   "hash": "aee8b7b246df8f9039afb4144a1f6fd8d2ca17a180786b69acc140d282b71a49"
  },
  "kernelspec": {
   "display_name": "Python 3.10.0 64-bit",
   "language": "python",
   "name": "python3"
  },
  "language_info": {
   "codemirror_mode": {
    "name": "ipython",
    "version": 3
   },
   "file_extension": ".py",
   "mimetype": "text/x-python",
   "name": "python",
   "nbconvert_exporter": "python",
   "pygments_lexer": "ipython3",
   "version": "3.10.0"
  },
  "orig_nbformat": 4
 },
 "nbformat": 4,
 "nbformat_minor": 2
}
