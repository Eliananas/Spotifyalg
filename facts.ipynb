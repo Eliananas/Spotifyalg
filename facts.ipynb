{
 "cells": [
  {
   "cell_type": "code",
   "execution_count": null,
   "metadata": {},
   "outputs": [],
   "source": [
    "# This code is licensed with an MIT license\n",
    "\n",
    "# STILL IN PROGRESS, NOT A PART OF ALGORITHM\n",
    "\n",
    "import spotipy\n",
    "from spotipy.oauth2 import SpotifyOAuth\n",
    "import cred\n",
    "import time\n",
    "import pandas as pd\n",
    "import random\n",
    "import statistics as stat\n",
    "\n",
    "scope = \"playlist-read-private playlist-modify-public user-read-private user-top-read user-library-read\"\n",
    "auth_manager = SpotifyOAuth(client_id=cred.client_id, client_secret=cred.client_secret, redirect_uri='http://127.0.0.1:8080', scope=scope)\n",
    "sp = spotipy.Spotify(auth_manager=auth_manager)\n",
    "\n",
    "user_id = sp.current_user()['id']\n",
    "user_country = sp.current_user()['country']\n"
   ]
  },
  {
   "cell_type": "code",
   "execution_count": null,
   "metadata": {},
   "outputs": [],
   "source": [
    "top_artists_sp = sp.current_user_top_artists(time_range='medium_term', limit=30)"
   ]
  },
  {
   "cell_type": "code",
   "execution_count": null,
   "metadata": {},
   "outputs": [],
   "source": [
    "def get_user_top_tracks():\n",
    "\n",
    "  long_term_tracks = sp.current_user_top_tracks(time_range='long_term', limit=30)\n",
    "  medium_term_tracks = sp.current_user_top_tracks(time_range='medium_term', limit=30)\n",
    "  short_term_tracks = sp.current_user_top_tracks(time_range='short_term', limit=30)\n",
    "\n",
    "  top_track_ids = []\n",
    "  for ltrack in long_term_tracks['items']:\n",
    "    top_track_ids.append(ltrack['uri'])\n",
    "\n",
    "  for mtrack in medium_term_tracks['items']:\n",
    "    top_track_ids.append(mtrack['uri'])\n",
    "\n",
    "  for strack in short_term_tracks['items']:\n",
    "    top_track_ids.append(strack['uri'])\n",
    "\n",
    "  return list(set(top_track_ids))\n",
    "get_user_top_tracks()"
   ]
  },
  {
   "cell_type": "code",
   "execution_count": null,
   "metadata": {},
   "outputs": [],
   "source": [
    "\n",
    "#def cool_fact():\n",
    "top_tracks_sp = sp.current_user_top_tracks(time_range='medium_term', limit=30)\n",
    "top_tracks = []\n",
    "\n",
    "for i, track in enumerate(top_tracks_sp['items']):\n",
    "  uri = top_tracks.append(track['uri'])\n",
    "\n",
    "#top_df = create_track_df(top_tracks)\n",
    "\n",
    "# ..."
   ]
  },
  {
   "cell_type": "code",
   "execution_count": null,
   "metadata": {},
   "outputs": [],
   "source": []
  },
  {
   "cell_type": "code",
   "execution_count": null,
   "metadata": {},
   "outputs": [],
   "source": [
    "# ...\n",
    "features = ['duration_m', 'track_popularity', 'danceability', 'energy',\n",
    "  'loudness', 'mode', 'speechiness', 'acousticness', 'instrumentalness',\n",
    "  'liveness', 'valence', 'tempo']\n",
    "feature_to_use = random.sample(features, k = 1)\n",
    "#feature_to_use = ['key']\n",
    "\n",
    "# add release date and key later?\n",
    "if feature_to_use[0] == 'duration_m':\n",
    "  duration = round(stat.mean(top_df['duration_m']), 3)\n",
    "  print(f'Did you know? On average, your top 30 tracks are {duration} minutes long!')\n",
    "\n",
    "elif feature_to_use[0] == 'track_popularity':\n",
    "  pop = round(stat.mean(top_df['track_popularity']), 3)\n",
    "  print(f'Did you know? On average, your top 30 tracks have popularity of {pop} (out of 100).')\n",
    "\n",
    "elif feature_to_use[0] == 'tempo':\n",
    "  tempo = round(stat.mean(top_df['tempo']), 3)\n",
    "  print(f'Did you know? On average, your top 30 tracks have a tempo of {tempo} bpm.')\n",
    "  # add if statements later on the degrees of speed\n",
    "\n",
    "elif feature_to_use[0] == 'loudness':\n",
    "  db = round(stat.mean(top_df['loudness']), 3)\n",
    "  print(f'Did you know? On average, your top 30 songs have a loudness of {db} decibels.')\n",
    "\n",
    "# elif feature_to_use[0] == 'key':\n",
    "#   top_key = max(top_df['key'], key = top_df['key'].count)\n",
    "#   if top_df['mode'] == 1:\n",
    "#     mode = 'major'\n",
    "#   else:\n",
    "#     mode = 'minor'\n",
    "#   print(f'Did you know? The most common key of your top 30 tracks is {top_key} {mode}.')\n",
    "\n",
    "elif feature_to_use[0] == 'mode':\n",
    "  if stat.mean(top_df['mode']) >= .5:\n",
    "    print(f'Did you know? The majority of your top 30 tracks are in a major key!')\n",
    "  else:\n",
    "    print(f'Did you know? The majority of your top 30 tracks are in a minor key!')\n",
    "\n",
    "else:\n",
    "  stats = top_df[feature_to_use[0]]\n",
    "  print(f'Did you know? On average, your top 30 songs have a {feature_to_use[0]} of {round(stat.mean(stats), 3)}.')"
   ]
  },
  {
   "cell_type": "code",
   "execution_count": null,
   "metadata": {},
   "outputs": [],
   "source": [
    "artist_genres = top_artists_sp['items'][0]['genres']\n",
    "artist_popularity = top_artists_sp['items'][0]['popularity']\n",
    "artist_name = top_artists_s=['items'][0]['name']"
   ]
  },
  {
   "cell_type": "code",
   "execution_count": null,
   "metadata": {},
   "outputs": [],
   "source": [
    "'''\n",
    "topartists = []\n",
    "for i, item in enumerate(top_artists['items']):\n",
    "    topartists.append(item['name'])\n",
    "    print(i + 1, item['name'])\n",
    "    \n",
    "print('\\n')\n",
    "toptracks = []\n",
    "for i, item in enumerate(top_tracks['items']):\n",
    "    toptracks.append(item['name'])\n",
    "    print(i + 1, item['name'], '//', item['artists'][0]['name'])\n",
    "    \n",
    "artist_popularities = []\n",
    "for i in range(len(top_artists['items'])):\n",
    "    artist_popularities.append(top_artists['items'][i]['popularity'])\n",
    "    \n",
    "track_popularities = []\n",
    "for i in range(len(top_tracks['items'])):\n",
    "    track_popularities.append(top_tracks['items'][i]['popularity'])\n",
    "'''"
   ]
  }
 ],
 "metadata": {
  "interpreter": {
   "hash": "aee8b7b246df8f9039afb4144a1f6fd8d2ca17a180786b69acc140d282b71a49"
  },
  "kernelspec": {
   "display_name": "Python 3.10.0 64-bit",
   "language": "python",
   "name": "python3"
  },
  "language_info": {
   "codemirror_mode": {
    "name": "ipython",
    "version": 3
   },
   "file_extension": ".py",
   "mimetype": "text/x-python",
   "name": "python",
   "nbconvert_exporter": "python",
   "pygments_lexer": "ipython3",
   "version": "3.10.0"
  },
  "orig_nbformat": 4
 },
 "nbformat": 4,
 "nbformat_minor": 2
}
