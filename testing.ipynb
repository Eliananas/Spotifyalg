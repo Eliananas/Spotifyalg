{
 "cells": [
  {
   "cell_type": "code",
   "execution_count": null,
   "metadata": {},
   "outputs": [],
   "source": [
    "import spotipy\n",
    "from spotipy.oauth2 import SpotifyOAuth\n",
    "import cred\n",
    "import functions\n",
    "import pprint\n",
    "import requests\n",
    "import time\n",
    "import math\n",
    "\n",
    "pp = pprint.PrettyPrinter()\n",
    "\n",
    "scope = \"playlist-read-private playlist-modify-public user-read-private user-top-read user-library-read\"\n",
    "auth_manager = SpotifyOAuth(client_id=cred.client_id, client_secret=cred.client_secret, redirect_uri='http://127.0.0.1:8080', scope=scope)\n",
    "sp = spotipy.Spotify(auth_manager=auth_manager)\n",
    "\n",
    "user_id = sp.current_user()['id']\n",
    "user_country = sp.current_user()['country']"
   ]
  }
 ],
 "metadata": {
  "language_info": {
   "name": "python"
  },
  "orig_nbformat": 4
 },
 "nbformat": 4,
 "nbformat_minor": 2
}
